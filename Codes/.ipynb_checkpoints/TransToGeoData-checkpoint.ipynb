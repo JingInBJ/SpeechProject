{
 "cells": [
  {
   "cell_type": "markdown",
   "metadata": {},
   "source": [
    "# Trans To GeoData.js"
   ]
  },
  {
   "cell_type": "code",
   "execution_count": 6,
   "metadata": {},
   "outputs": [
    {
     "name": "stdout",
     "output_type": "stream",
     "text": [
      "File has been read.\n",
      "2% completed.\n",
      "4% completed.\n",
      "6% completed.\n",
      "8% completed.\n",
      "10% completed.\n",
      "12% completed.\n",
      "14% completed.\n"
     ]
    },
    {
     "ename": "AttributeError",
     "evalue": "'float' object has no attribute 'replace'",
     "output_type": "error",
     "traceback": [
      "\u001b[0;31m---------------------------------------------------------------------------\u001b[0m",
      "\u001b[0;31mAttributeError\u001b[0m                            Traceback (most recent call last)",
      "\u001b[0;32m<ipython-input-6-20877fa375f2>\u001b[0m in \u001b[0;36m<module>\u001b[0;34m\u001b[0m\n\u001b[1;32m     45\u001b[0m             \u001b[0;34m\"group_id\"\u001b[0m\u001b[0;34m:\u001b[0m \u001b[0mgroupID\u001b[0m\u001b[0;34m,\u001b[0m\u001b[0;34m\u001b[0m\u001b[0;34m\u001b[0m\u001b[0m\n\u001b[1;32m     46\u001b[0m             \u001b[0;34m\"headline\"\u001b[0m\u001b[0;34m:\u001b[0m \u001b[0mfile\u001b[0m\u001b[0;34m[\u001b[0m\u001b[0;34m'Title'\u001b[0m\u001b[0;34m]\u001b[0m\u001b[0;34m[\u001b[0m\u001b[0mlenNum\u001b[0m\u001b[0;34m]\u001b[0m\u001b[0;34m,\u001b[0m\u001b[0;34m\u001b[0m\u001b[0;34m\u001b[0m\u001b[0m\n\u001b[0;32m---> 47\u001b[0;31m             \u001b[0;34m\"article\"\u001b[0m\u001b[0;34m:\u001b[0m \u001b[0;34m\"<p>\"\u001b[0m \u001b[0;34m+\u001b[0m \u001b[0mfile\u001b[0m\u001b[0;34m[\u001b[0m\u001b[0;34m'Speech'\u001b[0m\u001b[0;34m]\u001b[0m\u001b[0;34m[\u001b[0m\u001b[0mlenNum\u001b[0m\u001b[0;34m]\u001b[0m\u001b[0;34m.\u001b[0m\u001b[0mreplace\u001b[0m\u001b[0;34m(\u001b[0m\u001b[0;34m\"\\n\"\u001b[0m\u001b[0;34m,\u001b[0m \u001b[0;34m\"</p><p>\"\u001b[0m\u001b[0;34m)\u001b[0m \u001b[0;34m+\u001b[0m \u001b[0;34m\"</p>\"\u001b[0m\u001b[0;34m,\u001b[0m\u001b[0;34m\u001b[0m\u001b[0;34m\u001b[0m\u001b[0m\n\u001b[0m\u001b[1;32m     48\u001b[0m             \u001b[0;34m\"color\"\u001b[0m\u001b[0;34m:\u001b[0m \u001b[0mcolor\u001b[0m\u001b[0;34m,\u001b[0m\u001b[0;34m\u001b[0m\u001b[0;34m\u001b[0m\u001b[0m\n\u001b[1;32m     49\u001b[0m             \u001b[0;34m\"radius\"\u001b[0m\u001b[0;34m:\u001b[0m \u001b[0mradius\u001b[0m\u001b[0;34m\u001b[0m\u001b[0;34m\u001b[0m\u001b[0m\n",
      "\u001b[0;31mAttributeError\u001b[0m: 'float' object has no attribute 'replace'"
     ]
    }
   ],
   "source": [
    "#=====================================\n",
    "#            SETTINGS\n",
    "#=====================================\n",
    "#CSVName\n",
    "fileName = \"ObamaSpeech(20 Jan 2009 to 20 Jan 2010)_Located.csv\"\n",
    "\n",
    "type_ = \"Feature\"\n",
    "groupName = \"Donald Trump\"\n",
    "groupID = 1\n",
    "#group ID is 1 for Trump, 2 for Obama\n",
    "color = \"#660000\"   \n",
    "#660000 is red, 1f6bb8 is blue\n",
    "radius = \"7\"\n",
    "\n",
    "geometry_type = \"Point\"\n",
    "#=====================================\n",
    "\n",
    "import pandas as pd\n",
    "import json\n",
    "\n",
    "#Initialize\n",
    "infoData = {\"type\":\"FeatureCollection\"}\n",
    "features = []\n",
    "count = 1 #Only for tracing process\n",
    "lenNum = 0\n",
    "\n",
    "#ReadFile\n",
    "file = pd.read_csv(fileName)\n",
    "print('File has been read.')\n",
    "\n",
    "#Converting to JSON data\n",
    "dateList = file['Date']\n",
    "for date in dateList:\n",
    "    #Setup the Coordinates data\n",
    "    if (file['Coordinates'][lenNum] != \"N/A\"):\n",
    "        Coordinates = file['Coordinates'][lenNum].replace(\"]\",\"\").replace(\"[\",\"\").split(\", \")\n",
    "    else:\n",
    "        Coordinates = [\"N/A\", \"N/A\"]\n",
    "    \n",
    "    geo = {\n",
    "        \"type\": type_,\n",
    "        \"properties\": {\n",
    "            \"name\": file['Location'][lenNum],\n",
    "            \"group_name\": groupName,\n",
    "            \"group_id\": groupID,\n",
    "            \"headline\": file['Title'][lenNum],\n",
    "            \"article\": \"<p>\" + file['Speech'][lenNum].replace(\"\\n\", \"</p><p>\") + \"</p>\",\n",
    "            \"color\": color,\n",
    "            \"radius\": radius\n",
    "        },\n",
    "        \"geometry\": {\n",
    "            \"type\": geometry_type,\n",
    "            \"coordinates\": [float(Coordinates[0]), float(Coordinates[1])]\n",
    "        }\n",
    "    }\n",
    "    features.append(geo)\n",
    "    lenNum += 1\n",
    "    \n",
    "    #Print the process\n",
    "    print('{:.0%}'.format(count/len(dateList)), \"completed.\") \n",
    "    count += 1\n",
    "\n",
    "infoData[\"features\"] = features\n",
    "\n",
    "print(\"Writing into the JS file...\")\n",
    "\n",
    "#Variable name\n",
    "with open('../HTML/geo-data.js', 'w') as outfile:\n",
    "    outfile.write(\"infoData = \")\n",
    "#geojson output\n",
    "with open('../HTML/geo-data.js', 'a') as outfile:\n",
    "    json.dump(infoData, outfile)\n",
    "\n",
    "print(\"DONE.\")"
   ]
  },
  {
   "cell_type": "code",
   "execution_count": null,
   "metadata": {},
   "outputs": [],
   "source": []
  }
 ],
 "metadata": {
  "kernelspec": {
   "display_name": "Python 3",
   "language": "python",
   "name": "python3"
  },
  "language_info": {
   "codemirror_mode": {
    "name": "ipython",
    "version": 3
   },
   "file_extension": ".py",
   "mimetype": "text/x-python",
   "name": "python",
   "nbconvert_exporter": "python",
   "pygments_lexer": "ipython3",
   "version": "3.7.3"
  }
 },
 "nbformat": 4,
 "nbformat_minor": 2
}
